{
 "cells": [
  {
   "cell_type": "code",
   "execution_count": 1,
   "metadata": {},
   "outputs": [],
   "source": [
    "import numpy as np\n",
    "import matplotlib.pyplot as plt"
   ]
  },
  {
   "cell_type": "markdown",
   "metadata": {},
   "source": [
    "# 6.1 State posterior probabilities"
   ]
  },
  {
   "cell_type": "code",
   "execution_count": 2,
   "metadata": {},
   "outputs": [
    {
     "name": "stderr",
     "output_type": "stream",
     "text": [
      "C:\\Users\\chris\\gitlocal\\kth\\DT2119_SpeechRecognition\\lab2\\scripts\\run_state_post_prob.py:24: RuntimeWarning: divide by zero encountered in log\n",
      "  log_startprob = np.log(pi_vec)\n",
      "C:\\Users\\chris\\gitlocal\\kth\\DT2119_SpeechRecognition\\lab2\\scripts\\run_state_post_prob.py:25: RuntimeWarning: divide by zero encountered in log\n",
      "  log_transmat = np.log(trans_mat)\n"
     ]
    }
   ],
   "source": [
    "%run scripts/run_state_post_prob.py"
   ]
  },
  {
   "cell_type": "code",
   "execution_count": 3,
   "metadata": {},
   "outputs": [
    {
     "data": {
      "text/plain": [
       "<matplotlib.collections.QuadMesh at 0x20836e656a0>"
      ]
     },
     "execution_count": 3,
     "metadata": {},
     "output_type": "execute_result"
    },
    {
     "data": {
      "image/png": "[encoded data removed]",
      "text/plain": [
       "<Figure size 432x288 with 1 Axes>"
      ]
     },
     "metadata": {
      "needs_background": "light"
     },
     "output_type": "display_data"
    }
   ],
   "source": [
    "plt.pcolormesh(log_gamma.T)"
   ]
  },
  {
   "cell_type": "code",
   "execution_count": 4,
   "metadata": {},
   "outputs": [
    {
     "data": {
      "text/plain": [
       "<matplotlib.collections.QuadMesh at 0x20836f14588>"
      ]
     },
     "execution_count": 4,
     "metadata": {},
     "output_type": "execute_result"
    },
    {
     "data": {
      "image/png": "[encoded data removed]",
      "text/plain": [
       "<Figure size 432x288 with 1 Axes>"
      ]
     },
     "metadata": {
      "needs_background": "light"
     },
     "output_type": "display_data"
    }
   ],
   "source": [
    "plt.pcolormesh(log_gamma_gmm.T)"
   ]
  },
  {
   "cell_type": "markdown",
   "metadata": {},
   "source": [
    ">Now sum the HMM posteriors (in linear domain) for each state along the time axis. What is\n",
    "the meaning the the values you obtain?\n",
    "\n",
    "The hits or the belief to states given the observation sequence"
   ]
  },
  {
   "cell_type": "code",
   "execution_count": 5,
   "metadata": {
    "scrolled": false
   },
   "outputs": [
    {
     "data": {
      "text/plain": [
       "[<matplotlib.lines.Line2D at 0x20836f7af60>]"
      ]
     },
     "execution_count": 5,
     "metadata": {},
     "output_type": "execute_result"
    },
    {
     "data": {
      "image/png": "[encoded data removed]",
      "text/plain": [
       "<Figure size 432x288 with 1 Axes>"
      ]
     },
     "metadata": {
      "needs_background": "light"
     },
     "output_type": "display_data"
    }
   ],
   "source": [
    "# the posterior of the states over the time\n",
    "plt.plot(np.exp(logsumexp(log_gamma)))"
   ]
  },
  {
   "cell_type": "markdown",
   "metadata": {},
   "source": [
    ">What about summing over both states and time steps?\n",
    "\n",
    "The number of frames / time steps of the observation sequence"
   ]
  },
  {
   "cell_type": "code",
   "execution_count": 6,
   "metadata": {},
   "outputs": [
    {
     "data": {
      "text/plain": [
       "71.0"
      ]
     },
     "execution_count": 6,
     "metadata": {},
     "output_type": "execute_result"
    }
   ],
   "source": [
    "np.round(np.sum(np.exp(log_gamma)))"
   ]
  },
  {
   "cell_type": "code",
   "execution_count": 7,
   "metadata": {},
   "outputs": [
    {
     "data": {
      "text/plain": [
       "(71, 9)"
      ]
     },
     "execution_count": 7,
     "metadata": {},
     "output_type": "execute_result"
    }
   ],
   "source": [
    "log_gamma.shape"
   ]
  },
  {
   "cell_type": "markdown",
   "metadata": {},
   "source": [
    "# 6.2 Retraining the emission probability distributions"
   ]
  },
  {
   "cell_type": "code",
   "execution_count": 8,
   "metadata": {},
   "outputs": [
    {
     "name": "stderr",
     "output_type": "stream",
     "text": [
      "C:\\Users\\chris\\gitlocal\\kth\\DT2119_SpeechRecognition\\lab2\\scripts\\run_retrain.py:76: RuntimeWarning: divide by zero encountered in log\n",
      "  log_pi = np.log(pi_vec)\n",
      "C:\\Users\\chris\\gitlocal\\kth\\DT2119_SpeechRecognition\\lab2\\scripts\\run_retrain.py:77: RuntimeWarning: divide by zero encountered in log\n",
      "  log_trans = np.log(trans_mat)\n",
      "C:\\Users\\chris\\gitlocal\\kth\\DT2119_SpeechRecognition\\lab2\\scripts\\run_retrain.py:21: RuntimeWarning: divide by zero encountered in log\n",
      "  log_pi = np.log(startprob)\n",
      "C:\\Users\\chris\\gitlocal\\kth\\DT2119_SpeechRecognition\\lab2\\scripts\\run_retrain.py:22: RuntimeWarning: divide by zero encountered in log\n",
      "  log_trans = np.log(transmat)\n"
     ]
    },
    {
     "name": "stdout",
     "output_type": "stream",
     "text": [
      "The log likelihood of the digit 4: -7227.865033718987\n",
      "========================================================\n",
      "Retrain HMM for digit 4 with data[10]['lmfcc']\n",
      "Iter 0: The log likelihood in EM: -7227.865033718987\n",
      "Iter 1: The log likelihood in EM: -6438.012326767658\n",
      "Iter 2: The log likelihood in EM: -6151.369472526034\n",
      "Iter 3: The log likelihood in EM: -6082.528989744169\n",
      "Iter 4: The log likelihood in EM: -6025.674100403427\n",
      "Iter 5: The log likelihood in EM: -5998.6567593286745\n",
      "Iter 6: The log likelihood in EM: -5979.726916373638\n",
      "Iter 7: The log likelihood in EM: -5975.480769067649\n",
      "Iter 8: The log likelihood in EM: -5965.958183243098\n",
      "Iter 9: The log likelihood in EM: -5964.751363668493\n",
      "Iter 10: The log likelihood in EM: -5963.5396167479075\n",
      "Iter 11: The log likelihood in EM: -5963.160696113787\n",
      "Terminating the EM\n",
      "========================================================\n",
      "========================================================\n",
      "Retrain HMM for digit 1 with data[10]['lmfcc']\n",
      "Iter 0: The log likelihood in EM: -7565.191151286106\n",
      "Iter 1: The log likelihood in EM: -6232.2083064666285\n",
      "Iter 2: The log likelihood in EM: -6104.043506189976\n",
      "Iter 3: The log likelihood in EM: -6095.607820532894\n",
      "Iter 4: The log likelihood in EM: -6088.46609266907\n",
      "Iter 5: The log likelihood in EM: -6085.39822440679\n",
      "Iter 6: The log likelihood in EM: -6071.597329346645\n",
      "Iter 7: The log likelihood in EM: -6061.761811211486\n",
      "Iter 8: The log likelihood in EM: -6057.195493292687\n",
      "Iter 9: The log likelihood in EM: -6054.736557352348\n",
      "Iter 10: The log likelihood in EM: -6054.5880622789455\n",
      "Terminating the EM\n",
      "========================================================\n",
      "========================================================\n",
      "Retrain HMM for digit 5 with data[10]['lmfcc']\n",
      "Iter 0: The log likelihood in EM: -7437.292851301053\n",
      "Iter 1: The log likelihood in EM: -6193.501634222539\n",
      "Iter 2: The log likelihood in EM: -6010.7405945437395\n",
      "Iter 3: The log likelihood in EM: -5993.322174965986\n",
      "Iter 4: The log likelihood in EM: -5987.855043190463\n",
      "Iter 5: The log likelihood in EM: -5987.855040558536\n",
      "Terminating the EM\n",
      "========================================================\n",
      "========================================================\n",
      "Retrain HMM for digit 7 with data[10]['lmfcc']\n",
      "Iter 0: The log likelihood in EM: -7480.022221318616\n",
      "Iter 1: The log likelihood in EM: -6935.9774154046245\n",
      "Iter 2: The log likelihood in EM: nan\n",
      "Terminating the EM\n",
      "========================================================\n"
     ]
    },
    {
     "name": "stderr",
     "output_type": "stream",
     "text": [
      "C:\\Users\\chris\\gitlocal\\kth\\DT2119_SpeechRecognition\\lab2\\lab2_proto.py:232: RuntimeWarning: invalid value encountered in true_divide\n",
      "  means[i] = np.sum(gamma[:,i].reshape(-1, 1) * X, axis = 0) / gamma_sum\n",
      "C:\\Users\\chris\\gitlocal\\kth\\DT2119_SpeechRecognition\\lab2\\lab2_proto.py:235: RuntimeWarning: invalid value encountered in less\n",
      "  covars[i, covars[i] < varianceFloor] = varianceFloor\n"
     ]
    }
   ],
   "source": [
    "%run scripts/run_retrain.py"
   ]
  },
  {
   "cell_type": "code",
   "execution_count": null,
   "metadata": {},
   "outputs": [],
   "source": [
    ">Can you say anything about the log likelihood at each iteration and the\n",
    "number of iterations that are required to terminate the algorithm?"
   ]
  }
 ],
 "metadata": {
  "kernelspec": {
   "display_name": "Python 3",
   "language": "python",
   "name": "python3"
  },
  "language_info": {
   "codemirror_mode": {
    "name": "ipython",
    "version": 3
   },
   "file_extension": ".py",
   "mimetype": "text/x-python",
   "name": "python",
   "nbconvert_exporter": "python",
   "pygments_lexer": "ipython3",
   "version": "3.7.3"
  }
 },
 "nbformat": 4,
 "nbformat_minor": 2
}
