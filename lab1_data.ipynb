{
 "cells": [
  {
   "cell_type": "code",
   "execution_count": 3,
   "metadata": {},
   "outputs": [
    {
     "ename": "ImportError",
     "evalue": "cannot import name 'sndio'",
     "output_type": "error",
     "traceback": [
      "\u001b[1;31m---------------------------------------------------------------------------\u001b[0m",
      "\u001b[1;31mImportError\u001b[0m                               Traceback (most recent call last)",
      "\u001b[1;32m<ipython-input-3-4435d88de3bc>\u001b[0m in \u001b[0;36m<module>\u001b[1;34m()\u001b[0m\n\u001b[0;32m     14\u001b[0m \u001b[1;32mimport\u001b[0m \u001b[0mos\u001b[0m\u001b[1;33m\u001b[0m\u001b[0m\n\u001b[0;32m     15\u001b[0m \u001b[1;32mimport\u001b[0m \u001b[0msys\u001b[0m\u001b[1;33m\u001b[0m\u001b[0m\n\u001b[1;32m---> 16\u001b[1;33m \u001b[1;32mfrom\u001b[0m \u001b[0mpysndfile\u001b[0m \u001b[1;32mimport\u001b[0m \u001b[0msndio\u001b[0m\u001b[1;33m\u001b[0m\u001b[0m\n\u001b[0m\u001b[0;32m     17\u001b[0m \u001b[1;33m\u001b[0m\u001b[0m\n\u001b[0;32m     18\u001b[0m for tidigitsroot in ['/home/giampi/corpora/tidigits/disc_4.2.1/tidigits/test/',\n",
      "\u001b[1;31mImportError\u001b[0m: cannot import name 'sndio'"
     ]
    }
   ],
   "source": [
    "# Script to collect examples from the TIDIGITS database, compatible with python3\n",
    "# To be able to run you need:\n",
    "# - libsndfile development package (libsndfile1-dev in Ubuntu)\n",
    "# - pysndfile (https://pypi.python.org/pypi/pysndfile/0.2.1)\n",
    "# - access to KTH afs cell kth.se\n",
    "# - access rights to the TIDIGITS database\n",
    "#\n",
    "# Usage:\n",
    "# python3 lab1_data.py\n",
    "#\n",
    "# (C) 2015-2018 Giampiero Salvi <giampi@kth.se>\n",
    "# DT2119 Speech and Speaker Recognition\n",
    "\n",
    "import numpy as np\n",
    "import os\n",
    "import sys\n",
    "from pysndfile import sndio\n",
    "\n",
    "for tidigitsroot in ['/home/giampi/corpora/tidigits/disc_4.2.1/tidigits/test/',\n",
    "                     '/afs/kth.se/misc/csc/dept/tmh/corpora/tidigits/disc_4.2.1/tidigits/test/']:\n",
    "    if os.path.exists(tidigitsroot):\n",
    "        break\n",
    "    else:\n",
    "        continue\n",
    "    raise NameError('TIDIGITS root directory not found on system')\n",
    "\n",
    "genders = [\"man\", \"woman\"]\n",
    "speakers = [\"bm\", \"ew\"]\n",
    "#speakers = [\"ae\", \"ac\"]\n",
    "\n",
    "digits = [\"o\", \"z\", \"1\", \"2\", \"3\", \"4\", \"5\", \"6\", \"7\", \"8\", \"9\"]\n",
    "repetitions = [\"a\", \"b\"]\n",
    "\n",
    "data = []\n",
    "for idx in range(len(speakers)):\n",
    "    for digit in digits:\n",
    "        for repetition in repetitions:\n",
    "            filename = os.path.join(tidigitsroot, genders[idx], speakers[idx], digit+repetition+'.wav')\n",
    "            sndobj = sndio.read(filename, dtype=np.int16)\n",
    "            # the following is not necessary any longer, but I need to check that the feature extraction\n",
    "            # still works with int16 numbers. Also I need to change all occurrences in lab 2 and 3!!!!\n",
    "            # libsndfile scales the values down to the -1.0 +1.0 range\n",
    "            # here we convert back to the range of 16 bit linear PCM\n",
    "            # to get similar results as from Kaldi or HTK\n",
    "            #samples = np.array(sndobj[0])*np.iinfo(np.int16).max\n",
    "            samplingrate = sndobj[1]\n",
    "            data.append({\"filename\": filename,\n",
    "                         \"samplingrate\": samplingrate,\n",
    "                         \"gender\": genders[idx],\n",
    "                         \"speaker\": speakers[idx],\n",
    "                         \"digit\": digit,\n",
    "                         \"repetition\": repetition,\n",
    "                         \"samples\": sndobj[0]})\n",
    "\n",
    "np.savez('lab1_data.npz', data=data)\n",
    "\n"
   ]
  },
  {
   "cell_type": "code",
   "execution_count": null,
   "metadata": {},
   "outputs": [],
   "source": []
  }
 ],
 "metadata": {
  "kernelspec": {
   "display_name": "Python 3",
   "language": "python",
   "name": "python3"
  },
  "language_info": {
   "codemirror_mode": {
    "name": "ipython",
    "version": 3
   },
   "file_extension": ".py",
   "mimetype": "text/x-python",
   "name": "python",
   "nbconvert_exporter": "python",
   "pygments_lexer": "ipython3",
   "version": "3.7.1"
  }
 },
 "nbformat": 4,
 "nbformat_minor": 2
}
